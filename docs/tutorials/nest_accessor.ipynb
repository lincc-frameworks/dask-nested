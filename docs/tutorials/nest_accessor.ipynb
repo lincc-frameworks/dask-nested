{
 "cells": [
  {
   "cell_type": "markdown",
   "metadata": {},
   "source": [
    "# Using the Nested-Dask `nest` Accessor"
   ]
  },
  {
   "cell_type": "markdown",
   "metadata": {},
   "source": [
    "The `nest` accessor implements an additional API layer to support working with nested columns of a `NestedFrame`.\n",
    "\n",
    "> **_NOTE:_** The nest accessor in Nested-Dask has a limited implementation compared to Nested-Pandas"
   ]
  },
  {
   "cell_type": "code",
   "execution_count": 16,
   "metadata": {},
   "outputs": [
    {
     "data": {
      "text/html": [
       "<div><strong>Dask DataFrame Structure:</strong></div>\n",
       "<table border=\"1\" class=\"dataframe\">\n",
       "  <thead>\n",
       "    <tr style=\"text-align: right;\">\n",
       "      <th></th>\n",
       "      <th>a</th>\n",
       "      <th>b</th>\n",
       "      <th>nested</th>\n",
       "    </tr>\n",
       "    <tr>\n",
       "      <th>npartitions=1</th>\n",
       "      <th></th>\n",
       "      <th></th>\n",
       "      <th></th>\n",
       "    </tr>\n",
       "  </thead>\n",
       "  <tbody>\n",
       "    <tr>\n",
       "      <th>0</th>\n",
       "      <td>float64</td>\n",
       "      <td>float64</td>\n",
       "      <td>nested&lt;t: [double], flux: [double], band: [string]&gt;</td>\n",
       "    </tr>\n",
       "    <tr>\n",
       "      <th>9</th>\n",
       "      <td>...</td>\n",
       "      <td>...</td>\n",
       "      <td>...</td>\n",
       "    </tr>\n",
       "  </tbody>\n",
       "</table>\n",
       "<div>Dask Name: repartition, 3 expressions</div>"
      ],
      "text/plain": [
       "Dask NestedFrame Structure:\n",
       "                     a        b                                               nested\n",
       "npartitions=1                                                                       \n",
       "0              float64  float64  nested<t: [double], flux: [double], band: [string]>\n",
       "9                  ...      ...                                                  ...\n",
       "Dask Name: repartition, 3 expressions\n",
       "Expr=Repartition(frame=MapPartitions(NestedFrame), new_partitions=1)"
      ]
     },
     "execution_count": 16,
     "metadata": {},
     "output_type": "execute_result"
    }
   ],
   "source": [
    "from dask_nested.datasets import generate_data\n",
    "\n",
    "# generate_data creates some toy data\n",
    "ndf = generate_data(10, 5)  # 10 rows, 5 nested rows per row\n",
    "ndf"
   ]
  },
  {
   "cell_type": "markdown",
   "metadata": {},
   "source": [
    "The `nest` accessor is available when selecting a nested column of a `NestedFrame`. For example:"
   ]
  },
  {
   "cell_type": "code",
   "execution_count": 17,
   "metadata": {},
   "outputs": [
    {
     "data": {
      "text/plain": [
       "<dask_nested.accessor.DaskNestSeriesAccessor at 0x160a5d090>"
      ]
     },
     "execution_count": 17,
     "metadata": {},
     "output_type": "execute_result"
    }
   ],
   "source": [
    "ndf[\"nested\"].nest"
   ]
  },
  {
   "cell_type": "markdown",
   "metadata": {},
   "source": [
    "Nested column labels can be viewed using the `fields` property:"
   ]
  },
  {
   "cell_type": "code",
   "execution_count": 18,
   "metadata": {},
   "outputs": [
    {
     "data": {
      "text/plain": [
       "['t', 'flux', 'band']"
      ]
     },
     "execution_count": 18,
     "metadata": {},
     "output_type": "execute_result"
    }
   ],
   "source": [
    "ndf[\"nested\"].nest.fields"
   ]
  },
  {
   "cell_type": "markdown",
   "metadata": {},
   "source": [
    "Nested data can be viewed in different formats using `nest` accessor functions.\n",
    "\n",
    "`to_flat` will take the nested data and send it to a single flat `DataFrame`:"
   ]
  },
  {
   "cell_type": "code",
   "execution_count": 19,
   "metadata": {},
   "outputs": [
    {
     "data": {
      "text/html": [
       "<div><strong>Dask DataFrame Structure:</strong></div>\n",
       "<table border=\"1\" class=\"dataframe\">\n",
       "  <thead>\n",
       "    <tr style=\"text-align: right;\">\n",
       "      <th></th>\n",
       "      <th>t</th>\n",
       "      <th>flux</th>\n",
       "      <th>band</th>\n",
       "    </tr>\n",
       "    <tr>\n",
       "      <th>npartitions=1</th>\n",
       "      <th></th>\n",
       "      <th></th>\n",
       "      <th></th>\n",
       "    </tr>\n",
       "  </thead>\n",
       "  <tbody>\n",
       "    <tr>\n",
       "      <th>0</th>\n",
       "      <td>double[pyarrow]</td>\n",
       "      <td>double[pyarrow]</td>\n",
       "      <td>string[pyarrow]</td>\n",
       "    </tr>\n",
       "    <tr>\n",
       "      <th>9</th>\n",
       "      <td>...</td>\n",
       "      <td>...</td>\n",
       "      <td>...</td>\n",
       "    </tr>\n",
       "  </tbody>\n",
       "</table>\n",
       "<div>Dask Name: lambda, 5 expressions</div>"
      ],
      "text/plain": [
       "Dask DataFrame Structure:\n",
       "                             t             flux             band\n",
       "npartitions=1                                                   \n",
       "0              double[pyarrow]  double[pyarrow]  string[pyarrow]\n",
       "9                          ...              ...              ...\n",
       "Dask Name: lambda, 5 expressions\n",
       "Expr=MapPartitions(lambda)"
      ]
     },
     "execution_count": 19,
     "metadata": {},
     "output_type": "execute_result"
    }
   ],
   "source": [
    "flat_nested = ndf[\"nested\"].nest.to_flat()\n",
    "flat_nested"
   ]
  },
  {
   "cell_type": "code",
   "execution_count": 20,
   "metadata": {},
   "outputs": [
    {
     "data": {
      "text/html": [
       "<div>\n",
       "<style scoped>\n",
       "    .dataframe tbody tr th:only-of-type {\n",
       "        vertical-align: middle;\n",
       "    }\n",
       "\n",
       "    .dataframe tbody tr th {\n",
       "        vertical-align: top;\n",
       "    }\n",
       "\n",
       "    .dataframe thead th {\n",
       "        text-align: right;\n",
       "    }\n",
       "</style>\n",
       "<table border=\"1\" class=\"dataframe\">\n",
       "  <thead>\n",
       "    <tr style=\"text-align: right;\">\n",
       "      <th></th>\n",
       "      <th>t</th>\n",
       "      <th>flux</th>\n",
       "      <th>band</th>\n",
       "    </tr>\n",
       "  </thead>\n",
       "  <tbody>\n",
       "    <tr>\n",
       "      <th>0</th>\n",
       "      <td>13.509629</td>\n",
       "      <td>88.914048</td>\n",
       "      <td>r</td>\n",
       "    </tr>\n",
       "    <tr>\n",
       "      <th>0</th>\n",
       "      <td>8.634948</td>\n",
       "      <td>79.231053</td>\n",
       "      <td>g</td>\n",
       "    </tr>\n",
       "    <tr>\n",
       "      <th>0</th>\n",
       "      <td>17.119157</td>\n",
       "      <td>5.928274</td>\n",
       "      <td>r</td>\n",
       "    </tr>\n",
       "    <tr>\n",
       "      <th>0</th>\n",
       "      <td>19.561653</td>\n",
       "      <td>46.766275</td>\n",
       "      <td>r</td>\n",
       "    </tr>\n",
       "    <tr>\n",
       "      <th>0</th>\n",
       "      <td>13.746892</td>\n",
       "      <td>84.034938</td>\n",
       "      <td>g</td>\n",
       "    </tr>\n",
       "    <tr>\n",
       "      <th>1</th>\n",
       "      <td>10.561542</td>\n",
       "      <td>81.163032</td>\n",
       "      <td>g</td>\n",
       "    </tr>\n",
       "    <tr>\n",
       "      <th>1</th>\n",
       "      <td>1.354972</td>\n",
       "      <td>3.397109</td>\n",
       "      <td>r</td>\n",
       "    </tr>\n",
       "    <tr>\n",
       "      <th>1</th>\n",
       "      <td>9.6219</td>\n",
       "      <td>75.977237</td>\n",
       "      <td>r</td>\n",
       "    </tr>\n",
       "    <tr>\n",
       "      <th>1</th>\n",
       "      <td>0.07304</td>\n",
       "      <td>43.562784</td>\n",
       "      <td>g</td>\n",
       "    </tr>\n",
       "    <tr>\n",
       "      <th>1</th>\n",
       "      <td>7.657719</td>\n",
       "      <td>12.362825</td>\n",
       "      <td>g</td>\n",
       "    </tr>\n",
       "    <tr>\n",
       "      <th>2</th>\n",
       "      <td>5.652833</td>\n",
       "      <td>46.674879</td>\n",
       "      <td>r</td>\n",
       "    </tr>\n",
       "    <tr>\n",
       "      <th>2</th>\n",
       "      <td>4.813034</td>\n",
       "      <td>30.925827</td>\n",
       "      <td>g</td>\n",
       "    </tr>\n",
       "    <tr>\n",
       "      <th>2</th>\n",
       "      <td>0.800736</td>\n",
       "      <td>93.787431</td>\n",
       "      <td>g</td>\n",
       "    </tr>\n",
       "    <tr>\n",
       "      <th>2</th>\n",
       "      <td>13.317202</td>\n",
       "      <td>36.264783</td>\n",
       "      <td>r</td>\n",
       "    </tr>\n",
       "    <tr>\n",
       "      <th>2</th>\n",
       "      <td>3.159</td>\n",
       "      <td>47.166825</td>\n",
       "      <td>g</td>\n",
       "    </tr>\n",
       "    <tr>\n",
       "      <th>3</th>\n",
       "      <td>4.214378</td>\n",
       "      <td>23.836587</td>\n",
       "      <td>g</td>\n",
       "    </tr>\n",
       "    <tr>\n",
       "      <th>3</th>\n",
       "      <td>13.1752</td>\n",
       "      <td>38.680537</td>\n",
       "      <td>r</td>\n",
       "    </tr>\n",
       "    <tr>\n",
       "      <th>3</th>\n",
       "      <td>6.579436</td>\n",
       "      <td>61.964227</td>\n",
       "      <td>g</td>\n",
       "    </tr>\n",
       "    <tr>\n",
       "      <th>3</th>\n",
       "      <td>8.143109</td>\n",
       "      <td>25.909146</td>\n",
       "      <td>g</td>\n",
       "    </tr>\n",
       "    <tr>\n",
       "      <th>3</th>\n",
       "      <td>1.839672</td>\n",
       "      <td>86.719744</td>\n",
       "      <td>r</td>\n",
       "    </tr>\n",
       "  </tbody>\n",
       "</table>\n",
       "</div>"
      ],
      "text/plain": [
       "           t       flux band\n",
       "0  13.509629  88.914048    r\n",
       "0   8.634948  79.231053    g\n",
       "0  17.119157   5.928274    r\n",
       "0  19.561653  46.766275    r\n",
       "0  13.746892  84.034938    g\n",
       "1  10.561542  81.163032    g\n",
       "1   1.354972   3.397109    r\n",
       "1     9.6219  75.977237    r\n",
       "1    0.07304  43.562784    g\n",
       "1   7.657719  12.362825    g\n",
       "2   5.652833  46.674879    r\n",
       "2   4.813034  30.925827    g\n",
       "2   0.800736  93.787431    g\n",
       "2  13.317202  36.264783    r\n",
       "2      3.159  47.166825    g\n",
       "3   4.214378  23.836587    g\n",
       "3    13.1752  38.680537    r\n",
       "3   6.579436  61.964227    g\n",
       "3   8.143109  25.909146    g\n",
       "3   1.839672  86.719744    r"
      ]
     },
     "execution_count": 20,
     "metadata": {},
     "output_type": "execute_result"
    }
   ],
   "source": [
    "flat_nested.head(20)"
   ]
  },
  {
   "cell_type": "markdown",
   "metadata": {},
   "source": [
    "The index of the resulting flat dataframe is repeated and maps directly to the index of the original `NestedFrame`.\n",
    "\n",
    "Alternatively, `to_lists` can be used to package the data into numpy arrays:"
   ]
  },
  {
   "cell_type": "code",
   "execution_count": 23,
   "metadata": {},
   "outputs": [
    {
     "data": {
      "text/html": [
       "<div>\n",
       "<style scoped>\n",
       "    .dataframe tbody tr th:only-of-type {\n",
       "        vertical-align: middle;\n",
       "    }\n",
       "\n",
       "    .dataframe tbody tr th {\n",
       "        vertical-align: top;\n",
       "    }\n",
       "\n",
       "    .dataframe thead th {\n",
       "        text-align: right;\n",
       "    }\n",
       "</style>\n",
       "<table border=\"1\" class=\"dataframe\">\n",
       "  <thead>\n",
       "    <tr style=\"text-align: right;\">\n",
       "      <th></th>\n",
       "      <th>t</th>\n",
       "      <th>flux</th>\n",
       "      <th>band</th>\n",
       "    </tr>\n",
       "  </thead>\n",
       "  <tbody>\n",
       "    <tr>\n",
       "      <th>0</th>\n",
       "      <td>[13.5096288   8.63494758 17.11915696 19.561652...</td>\n",
       "      <td>[88.91404805 79.23105261  5.92827401 46.766274...</td>\n",
       "      <td>['r' 'g' 'r' 'r' 'g']</td>\n",
       "    </tr>\n",
       "    <tr>\n",
       "      <th>1</th>\n",
       "      <td>[10.5615423   1.35497198  9.62190035  0.073040...</td>\n",
       "      <td>[81.16303204  3.39710897 75.97723713 43.562784...</td>\n",
       "      <td>['g' 'r' 'r' 'g' 'g']</td>\n",
       "    </tr>\n",
       "    <tr>\n",
       "      <th>2</th>\n",
       "      <td>[ 5.65283252  4.81303449  0.80073596 13.317201...</td>\n",
       "      <td>[46.6748786  30.92582712 93.78743066 36.264783...</td>\n",
       "      <td>['r' 'g' 'g' 'r' 'g']</td>\n",
       "    </tr>\n",
       "    <tr>\n",
       "      <th>3</th>\n",
       "      <td>[ 4.214378   13.17520009  6.57943592  8.143109...</td>\n",
       "      <td>[23.83658733 38.68053664 61.96422735 25.909146...</td>\n",
       "      <td>['g' 'r' 'g' 'g' 'r']</td>\n",
       "    </tr>\n",
       "    <tr>\n",
       "      <th>4</th>\n",
       "      <td>[4.31790223 9.2989414  0.19071925 7.55345992 7...</td>\n",
       "      <td>[97.32244264 32.95566652 15.17553499 36.674948...</td>\n",
       "      <td>['r' 'r' 'g' 'g' 'r']</td>\n",
       "    </tr>\n",
       "    <tr>\n",
       "      <th>5</th>\n",
       "      <td>[ 0.8441804  17.12893578  5.99104788 16.905202...</td>\n",
       "      <td>[ 4.58329024 35.91586029 20.12656116 43.806012...</td>\n",
       "      <td>['g' 'g' 'g' 'r' 'r']</td>\n",
       "    </tr>\n",
       "    <tr>\n",
       "      <th>6</th>\n",
       "      <td>[ 2.17272952 11.47100691 19.78062851 12.968281...</td>\n",
       "      <td>[52.14204136 84.87265098 25.26807129 94.230023...</td>\n",
       "      <td>['g' 'g' 'r' 'r' 'r']</td>\n",
       "    </tr>\n",
       "    <tr>\n",
       "      <th>7</th>\n",
       "      <td>[ 7.31546622 14.96282356 15.17099992 15.028434...</td>\n",
       "      <td>[41.17012344 89.94693463 84.09613648 53.773103...</td>\n",
       "      <td>['g' 'r' 'r' 'r' 'g']</td>\n",
       "    </tr>\n",
       "    <tr>\n",
       "      <th>8</th>\n",
       "      <td>[ 1.69038072 11.05890727 11.28588246  8.962195...</td>\n",
       "      <td>[25.24952237 11.87511229 95.16037222 83.882477...</td>\n",
       "      <td>['r' 'r' 'r' 'r' 'g']</td>\n",
       "    </tr>\n",
       "    <tr>\n",
       "      <th>9</th>\n",
       "      <td>[ 1.20415091 18.31529619 16.92607067 15.473383...</td>\n",
       "      <td>[43.42305605 76.56653572  6.47013062 13.418778...</td>\n",
       "      <td>['g' 'r' 'r' 'r' 'r']</td>\n",
       "    </tr>\n",
       "  </tbody>\n",
       "</table>\n",
       "</div>"
      ],
      "text/plain": [
       "                                                   t  ...                   band\n",
       "0  [13.5096288   8.63494758 17.11915696 19.561652...  ...  ['r' 'g' 'r' 'r' 'g']\n",
       "1  [10.5615423   1.35497198  9.62190035  0.073040...  ...  ['g' 'r' 'r' 'g' 'g']\n",
       "2  [ 5.65283252  4.81303449  0.80073596 13.317201...  ...  ['r' 'g' 'g' 'r' 'g']\n",
       "3  [ 4.214378   13.17520009  6.57943592  8.143109...  ...  ['g' 'r' 'g' 'g' 'r']\n",
       "4  [4.31790223 9.2989414  0.19071925 7.55345992 7...  ...  ['r' 'r' 'g' 'g' 'r']\n",
       "5  [ 0.8441804  17.12893578  5.99104788 16.905202...  ...  ['g' 'g' 'g' 'r' 'r']\n",
       "6  [ 2.17272952 11.47100691 19.78062851 12.968281...  ...  ['g' 'g' 'r' 'r' 'r']\n",
       "7  [ 7.31546622 14.96282356 15.17099992 15.028434...  ...  ['g' 'r' 'r' 'r' 'g']\n",
       "8  [ 1.69038072 11.05890727 11.28588246  8.962195...  ...  ['r' 'r' 'r' 'r' 'g']\n",
       "9  [ 1.20415091 18.31529619 16.92607067 15.473383...  ...  ['g' 'r' 'r' 'r' 'r']\n",
       "\n",
       "[10 rows x 3 columns]"
      ]
     },
     "execution_count": 23,
     "metadata": {},
     "output_type": "execute_result"
    }
   ],
   "source": [
    "list_nested = ndf[\"nested\"].nest.to_lists()\n",
    "list_nested.compute()"
   ]
  }
 ],
 "metadata": {
  "kernelspec": {
   "display_name": "Python 3",
   "language": "python",
   "name": "python3"
  },
  "language_info": {
   "codemirror_mode": {
    "name": "ipython",
    "version": 3
   },
   "file_extension": ".py",
   "mimetype": "text/x-python",
   "name": "python",
   "nbconvert_exporter": "python",
   "pygments_lexer": "ipython3",
   "version": "3.10.11"
  }
 },
 "nbformat": 4,
 "nbformat_minor": 2
}
